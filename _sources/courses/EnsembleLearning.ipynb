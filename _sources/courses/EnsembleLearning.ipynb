{
 "cells": [
  {
   "cell_type": "markdown",
   "metadata": {},
   "source": [
    "# Ensemble, Fusion, Combining \n",
    "Ensemble learning, fusion, and combining are techniques used in machine learning to improve the performance and robustness of models by leveraging:\n",
    "\n",
    "- multiple models\n",
    "- many types of data sources\n",
    "- multiple learners\n",
    "\n",
    "![Ensemble1](../AI_Images/Ensemble1.JPG)"
   ]
  },
  {
   "cell_type": "markdown",
   "metadata": {},
   "source": [
    "## Some Methods\n",
    "There are several methods for creating ensembles:\n",
    "- Bagging (Bootstrap Aggregating): Multiple models are trained on different random subsets of the training data.\n",
    "- Boosting: Models are trained sequentially, with each new model focusing on correcting the errors made by previous models.\n",
    "\n",
    "Model Fusion\n",
    "- Voting\n"
   ]
  },
  {
   "cell_type": "markdown",
   "metadata": {},
   "source": [
    "## Simplicity and Diversity\n",
    "\n",
    "![DiversitySymbol](../AI_Images/Diversity_Symbol.jpg)\n",
    "\n",
    "- Simplicity: Use simple models that are easy to interpret and less prone to overfitting.\n",
    "- Diversity: Ensure that the models are different from each other in terms of their predictions and error patterns.\n",
    "In quran:\n",
    "\n",
    "![QuranDiversity](../AI_Images/Diversity_Quran1.jpg)\n",
    "\n",
    "![QuranDiversity](../AI_Images/Diversity_Quran2.jpg)\n",
    "\n",
    "\n"
   ]
  },
  {
   "cell_type": "markdown",
   "metadata": {},
   "source": [
    "## Decision profile\n",
    "Classifier behavior on all training samples.\n",
    "\n",
    "![DP_1](../AI_Images/DecisionProfile_1.jpg)\n",
    "\n",
    "**Bayesian combination**, is indeed a prominent technique among ensemble methods. It leverages Bayesian inference principles to combine predictions from multiple models or experts, incorporating **uncertainty and prior knowledge** to improve overall predictive accuracy and reliability."
   ]
  }
 ],
 "metadata": {
  "language_info": {
   "name": "python"
  }
 },
 "nbformat": 4,
 "nbformat_minor": 2
}
