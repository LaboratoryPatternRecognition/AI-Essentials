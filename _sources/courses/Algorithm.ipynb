{
 "cells": [
  {
   "cell_type": "markdown",
   "metadata": {},
   "source": [
    "# Algorithm"
   ]
  },
  {
   "cell_type": "markdown",
   "metadata": {},
   "source": [
    "\n",
    "**Supervised Learning:** \n",
    "- Algorithms that learn from labeled data to make predictions or decisions.\n",
    "  \n",
    "**Unsupervised Learning:** \n",
    "- Algorithms that identify patterns or groupings in unlabeled data.\n",
    "- Examples: K-Means Clustering\n",
    "\n",
    "**Semi-supervised Learning:** \n",
    "- Algorithms that use both labeled and unlabeled data to identify patterns.\n",
    "  "
   ]
  },
  {
   "cell_type": "markdown",
   "metadata": {},
   "source": [
    "## Supervised Learning\n",
    "Supervised learning is expensive, especially in terms of data labeling, as it requires large labeled datasets to train models effectively.\n",
    "\n",
    "![Expensive Supervised Learning](../AI_Images/ExpensiveSupervisedLearning.jpg)"
   ]
  },
  {
   "cell_type": "markdown",
   "metadata": {},
   "source": [
    "Labeling ***MRI*** scans is particularly expensive due to the need for expert radiologists to accurately annotate the images, which requires significant time and specialized knowledge\n",
    "\n",
    "![MRI Labeling](../AI_Images/MRI_Labeling_Expensive.jpg)"
   ]
  },
  {
   "cell_type": "markdown",
   "metadata": {},
   "source": [
    "### Amazing Note:\n",
    "**Active learning** is particularly valuable in contexts like labeling MRI scans because it can significantly reduce the amount of labeled data needed to achieve high model performance.\n",
    "\n",
    "#### **Why Active Learning is Useful**\n",
    "\n",
    "1. **Efficient Labeling**:\n",
    "   - **Targeted Annotation**: Active learning identifies the **_most informative samples for labeling_**, focusing expert resources on the most uncertain or representative cases. This reduces the total number of images that need to be labeled compared to randomly selecting samples.\n",
    "   - **Cost Reduction**: By minimizing the amount of data requiring expert annotation, active learning lowers the overall cost associated with labeling, which is crucial in fields like medical imaging where expert time is expensive.\n",
    "\n",
    "2. **Improved Model Performance**:\n",
    "   - **Increased Accuracy**: Active learning helps improve model performance more effectively with _fewer labeled_ examples by ensuring that the labeled data includes the most challenging and _informative_ samples. This leads to better generalization and accuracy in the model.\n",
    "   (Spam is not an informative sample)\n",
    "\n",
    "3. **Faster Model Training**:\n",
    "   - **Efficient Learning**: Active learning accelerates the training process by strategically selecting the most valuable data points, leading to faster convergence and reduced time for model development.\n",
    "\n",
    "![Active Learning](../AI_Images/ActiveLearning.JPG)"
   ]
  },
  {
   "cell_type": "markdown",
   "metadata": {},
   "source": [
    "**Example:**\n",
    "\n",
    "### Credit Scoring\n",
    "Credit scoring is the process of determining how probably a person or organization is to repay a loan.\n",
    "\n",
    "**Feature Extraction:**\n",
    "**Input Vector:**\n",
    "- **Payment History:**\n",
    "  - Late Payments: Number of late payments, severity of lateness (30, 60, 90 days), and frequency of late payments.\n",
    "- **Account Activity:**\n",
    "  - Transaction Volume: Frequency and volume of transactions on credit accounts.\n",
    "- **Account Balances:**\n",
    "  - Total Debt\n",
    "  - Debt-to-Income Ratio\n",
    "\n",
    "**Output:**\n",
    "- Binary: Default, Non-default"
   ]
  },
  {
   "cell_type": "markdown",
   "metadata": {},
   "source": [
    "### Image classification\n",
    "Robots are one of the most used classification of images "
   ]
  },
  {
   "cell_type": "markdown",
   "metadata": {},
   "source": [
    "Baxter is a collaborative robot (cobot) \n",
    "it suitable for tasks such as material handling, machine tending, and light assembly.\n",
    "\n",
    "Rethink Robotics, was introduced in 2012. Baxter has a pair of cameras mounted in its head\n",
    " \n",
    "![Baxter](../AI_Images/Boxter_Robot.JPG)"
   ]
  },
  {
   "cell_type": "markdown",
   "metadata": {},
   "source": [
    "## Unsupervised Learning\n",
    "Unsupervised learning techniques are specifically used for tasks such as _clustering_ and **data reduction**, which help in discovering patterns and simplifying datasets without relying on labeled data.\n",
    "\n",
    "### Text Clustering: News Aggregation\n",
    "Clustering in NLP involves grouping similar texts or documents together based on their content or features, without predefined labels. Group news articles into categories such as **politics, sports, entertainment, and technology**.\n",
    "\n",
    "***News API:***\n",
    "A service that provides access to news articles from various sources and blogs.\n",
    "\n",
    "Features: Allows you to search for news articles, get headlines from different sources, and filter by date, language, and more.\n",
    "- **Website:** [News API](https://newsapi.org/)\n",
    "\n",
    "And other, such as, \n",
    "\n",
    "**ContextualWeb News API:** **Website:** [ContextualWeb News API](https://rapidapi.com/contextualwebsearch/api/web-search)\n",
    "\n",
    "**GNews API:** **Website:** [GNews API](https://gnews.io/docs/)"
   ]
  },
  {
   "cell_type": "markdown",
   "metadata": {},
   "source": [
    "### Zero Price Data\n",
    "Unlabeled data, or data available at zero cost, presents a valuable opportunity in machine learning and data-driven applications for several reasons:\n",
    "\n",
    "#### **Benefits of Unlabeled Data**\n",
    "\n",
    "![Semisupervised Improve Knowledge](../AI_Images/Semisupervised_ImproveKnowledge.JPG)\n",
    "\n",
    "1. **Abundance (frequency) and Availability**:\n",
    "   - **Large Volumes**: Unlabeled data is often available in large quantities, such as images from the internet, user-generated content, sensor data, or logs.\n",
    "   - **Accessibility**: It can be easily collected and stored at minimal or no cost, making it a rich resource for analysis.\n",
    "\n",
    "2. **Enhanced Model Training**:\n",
    "   - **Semi-Supervised Learning**: Combining a small amount of labeled data with a large amount of unlabeled data can improve model performance. Techniques like self-training, co-training, and pseudo-labeling leverage unlabeled data to boost accuracy.\n",
    "   - **Representation Learning**: Unlabeled data is crucial for pre-training models, especially in unsupervised or self-supervised learning paradigms. This helps in learning useful feature representations before fine-tuning with labeled data.\n",
    "\n",
    "3. **Cost Efficiency**:\n",
    "   - **Reduced Labeling Costs**: Utilizing unlabeled data reduces the need for extensive and expensive labeling efforts. Active learning and other semi-supervised techniques make the most of the available labeled data.\n",
    "   - **Scalable Solutions**: With the abundance of unlabeled data, scalable and automated solutions can be developed to process and utilize this data effectively.\n",
    "\n",
    "### **Why We Crawl for Unlabeled Data**\n",
    "\n",
    "1. **Diverse and Rich Datasets**:\n",
    "   - **Broad Coverage**: Crawling the web or other sources for unlabeled data ensures a diverse and comprehensive dataset, which helps in training robust and generalizable models.\n",
    "   - **Real-World Applications**: Accessing a wide variety of unlabeled data from different sources captures real-world variations and nuances, making the models more applicable in practical scenarios.\n",
    "\n",
    "2. **Continuous Learning and Updating**:\n",
    "   - **Dynamic Data**: Crawling allows for the continuous collection of fresh data, which is essential for updating models to adapt to new trends and patterns.\n",
    "   - **Adaptive Models**: Regularly incorporating new unlabeled data helps in keeping the models up-to-date and relevant.\n",
    "\n",
    "**Web Crawler** \n",
    "also known as a web spider or web bot, is an automated program designed to systematically browse the internet and collect data from websites.\n",
    "\n",
    "### Unlabel Data and some algorithms\n",
    "- Generative Adversarial Networks\n",
    "- Autoencoders\n",
    "- Flow-based Models\n",
    "- Diffusion Models\n",
    "- Autoregressive Models\n",
    "- Transformer-based Models\n",
    "- Clustering based methos"
   ]
  },
  {
   "cell_type": "markdown",
   "metadata": {},
   "source": [
    "**Now, it's time to discuss the example that used all types of algorithms, such as ChatGPT.**"
   ]
  },
  {
   "cell_type": "markdown",
   "metadata": {},
   "source": [
    "### ChatGPT\n",
    "_The rate at which it is being utilized is so fast that it **feels completely outdated**._"
   ]
  },
  {
   "cell_type": "markdown",
   "metadata": {},
   "source": [
    "***ChatGPT***\n",
    "The product of the well-known company OpenAI is based on Language Models. It understands the linguistic structure of a language and allows computers to work intelligently with that language. OpenAI began operations in 2015 and introduced its first research work in 2016 under the title Generative Pre-trained Transformer (GPT). ChatGPT is built on GPT-3, the third version of this tool, which has 175 billion parameters.\n",
    "Here are the headlines with years added for a clearer timeline:\n",
    "\n",
    "1. **OpenAI's Language Model Technology (Since 2015)**\n",
    "2. **OpenAI Introduces GPT (Generative Pre-trained Transformer): First Research Work (2016)**\n",
    "3. **ChatGPT Built on GPT-3 with 175 Billion Parameters (2020)**\n",
    "4. **ChatGPT supports a significant number of languages** (English, Spanish, French, German, Chinese, Japanese, Korean, Italian, Portuguese, Dutch, Russian, Arabic, Turkish, Swedish, Danish, Norwegian, Finnish, Polish, Hungarian, Greek, Czech, Romanian, Hebrew, Thai)\n",
    "\n",
    "\n"
   ]
  },
  {
   "cell_type": "markdown",
   "metadata": {},
   "source": [
    "**Some of OpenAI's products:**\n",
    "\n",
    "1. DALL-E: The ability to generate images from text.\n",
    "2. Codex: Code generation in response to natural language (6 billion parameters and 800 million lines of code).\n"
   ]
  },
  {
   "cell_type": "markdown",
   "metadata": {},
   "source": [
    "**ChatGPT has various capabilities in working with texts, including the following well-known areas:**\n",
    "\n",
    "1. **Language Assistant:** Tasks ranging from grammar and style checking, writing suggestions, to language translation.\n",
    "2. **Knowledge Acquisition:** Answering questions on various topics, recent and historical events, scientific discoveries, and more.\n",
    "3. **Personalized Recommendations:** Providing services and entertainment based on user analysis.\n",
    "4. **Chatbot and Virtual Assistant:** Offering support and customer interaction.\n",
    "5. **Sentiment Analysis:** Determining sentiment and detecting biases based on social media and online content.\n",
    "6. **Voice Assistant:** Enabling device control and voice responses by integrating with voice assistants (understanding spoken language).\n",
    "7. **Education:** Acting as a personal tutor, answering questions, and providing feedback on students' texts."
   ]
  },
  {
   "cell_type": "markdown",
   "metadata": {},
   "source": [
    "ChatGPT has been trained on a vast amount of data that includes various types of text, such as reviews, articles, posts, and chats. Importantly, among these texts, there are also different programming languages. Additionally, it encompasses **website content, literature sources, poems, jokes, and scientific resources**."
   ]
  },
  {
   "cell_type": "markdown",
   "metadata": {},
   "source": [
    "**ChatGPT offers various features, including:**\n",
    "\n",
    "1. Conversations\n",
    "2. Humor\n",
    "3. Poetry\n",
    "4. Code writing with debugging and explanations\n",
    "5. Story telling\n",
    "6. Resume creation\n",
    "7. Understanding and maintaining long-term conversations\n",
    "8. Generating scientific content across different fields\n",
    "9. Translating between multiple languages\n",
    "10. Various text-based applications"
   ]
  }
 ],
 "metadata": {
  "language_info": {
   "name": "python"
  }
 },
 "nbformat": 4,
 "nbformat_minor": 2
}
