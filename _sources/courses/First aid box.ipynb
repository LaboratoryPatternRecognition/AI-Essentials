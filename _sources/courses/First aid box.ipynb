{
 "cells": [
  {
   "cell_type": "markdown",
   "metadata": {},
   "source": [
    "## Some Concept in AI\n",
    "\n",
    "# Natural Language Processing (NLP)\n",
    "Natural Language Processing (NLP) is a branch of artificial intelligence that focuses on the interaction between computers and humans through natural language.\n",
    "\n",
    "Tokenization\n",
    "Input: \"Natural Language Processing is fun.\"\n",
    "Output: [\"Natural\", \"Language\", \"Processing\", \"is\", \"fun\"]\n",
    "\n",
    "\n",
    "\n",
    "Part-of-Speech (POS) Tagging\n",
    "noun, verb, adjective, etc\n",
    "\n",
    "Named Entity Recognition (NER)\n",
    "classifying named entities in text into predefined categories such as names of people, organizations, locations, dates, etc.\n",
    "\n",
    "Sentiment Analysis\n",
    "Input: \"I love Sardar Soleimani\"\n",
    "Output: Positive\n",
    "\n",
    "Language Modeling\n",
    "next word or sequence of words in a sentence\n",
    "\n",
    "Text Classification\n",
    "Input: \"This is an urgent email about your account.\"\n",
    "Output: \"Spam\"\n",
    "\n",
    "Word Embeddings\n",
    "Wrod 2 Vector\n",
    "\n",
    "Transformer Models\n",
    "Neural network to handle sequential data\n",
    "\n",
    "Speech Recognition and Synthesis\n",
    "Speech Recognition: Converting spoken language into text.\n",
    "Speech Synthesis (Text-to-Speech): Converting text into spoken language.\n",
    "\n"
   ]
  }
 ],
 "metadata": {
  "language_info": {
   "name": "python"
  }
 },
 "nbformat": 4,
 "nbformat_minor": 2
}
