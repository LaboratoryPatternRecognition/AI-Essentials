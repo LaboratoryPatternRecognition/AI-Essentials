{
 "cells": [
  {
   "cell_type": "markdown",
   "metadata": {},
   "source": [
    "# Inside AI"
   ]
  },
  {
   "cell_type": "markdown",
   "metadata": {},
   "source": [
    "## Several fundamental ingredients. \n",
    "\n",
    "### Data\n",
    "- **Sources:** Text, images, videos, and sensor readings, databases, emails and social media posts\n",
    "\n",
    "- **Preprocessed Data:** Data cleaned and prepared for analysis, including normalization, transformation, and feature extraction.\n",
    "\n",
    "### Algorithms\n",
    "\n",
    "- **Supervised Learning:** Algorithms that learn from labeled data to make predictions or decisions (e.g., linear regression, decision trees, support vector machines).\n",
    "- **Unsupervised Learning:** Algorithms that identify patterns or groupings in unlabeled data (e.g., k-means clustering, hierarchical clustering, principal component analysis).\n",
    "- **Semusupervised Learning** Algorithms that identify patterns in Label and unlabled data\n",
    "\n",
    "### Models\n",
    "\n",
    "- **Linear and Non-Linear Models:** Linear model between output and inputs\n",
    "- **Deterministic model or Stochastic** Parameters are deterministic or stochastic \n",
    "\n",
    "### Training and Testing\n",
    "\n",
    "- **Training Data:** Data used to train models by adjusting parameters to minimize error.\n",
    "- **Validation Data:** Data used to tune model hyperparameters.\n",
    "- **Testing Data:** Data used to evaluate the model’s performance and generalization ability.\n",
    "\n",
    "### Evaluation Metrics\n",
    "\n",
    "- **Accuracy:** The proportion of correct predictions made by the model.\n",
    "- **Precision and Recall:** Metrics used for classification tasks to measure the relevance and completeness of the predictions.\n",
    "\n",
    "### Hardware\n",
    "\n",
    "- **Computational Resources:** Hardware such as CPUs, GPUs, and TPUs used to perform computations and train models efficiently. *_Tensor Processing Unit_* is an AI accelerator application-specific integrated circuit developed by Google for neural network machine learning, using Google's own TensorFlow software\n",
    "- **Storage:** Systems for storing large volumes of data and trained models.\n",
    "- **Networking:** Infrastructure for data transfer and communication between distributed systems.\n",
    "\n",
    "### Software Tools and Frameworks\n",
    "\n",
    "- **Machine Learning Libraries:** Software libraries and frameworks that provide pre-built algorithms and models (e.g., TensorFlow, PyTorch, scikit-learn).\n",
    "- **Data Processing Tools:** Tools for data cleaning, transformation, and analysis (e.g., Pandas, NumPy).\n",
    "- **Visualization Tools:** Tools for visualizing data and model outputs (e.g., Matplotlib, Seaborn).\n",
    "\n",
    "### AI Techniques\n",
    "\n",
    "- **Natural Language Processing (NLP):** Techniques for understanding and generating human language (e.g., sentiment analysis, named entity recognition).\n",
    "- **Computer Vision:** Techniques for interpreting visual information from images or videos (e.g., object detection, image segmentation).\n",
    "- **Robotics:** Techniques for enabling machines to perform physical tasks autonomously or semi-autonomously.\n",
    "\n",
    "### Ethical and Social Considerations\n",
    "\n",
    "- **Bias and Fairness:** Ensuring that AI systems do not reinforce existing biases and are fair across different groups and scenarios.\n",
    "\n",
    "![Bias and Fairness 1](../AI_Images/Bias_Fairness_1.JPG)\n",
    "\n",
    "![Bias and Fairness 1](../AI_Images/Bias_Fairness_2.JPG)\n",
    "\n",
    "\n",
    "- **Privacy and Security:** Protecting sensitive data and ensuring that AI systems are secure from unauthorized access.\n",
    "- **Transparency and Explainability:** Making AI systems understandable and their decisions interpretable by users.\n",
    "- \n"
   ]
  },
  {
   "cell_type": "markdown",
   "metadata": {},
   "source": [
    "## Adventure with Artificial Intelligence\n",
    "\n",
    "![Adventure with Artificial Intelligence](../AI_Images/AdventurewithAI.jpg)\n",
    "\n",
    "### Development and Deployment\n",
    "\n",
    "- **Problem Definition:** Clearly defining the problem or task that the AI system will address.\n",
    "- **Data Collection and Preparation:** Gathering and preparing data for training and testing.\n",
    "- **Model Development:** Designing, training, and tuning AI models.\n",
    "- **Deployment:** Integrating AI models into production systems or applications for real-world use.\n",
    "- **Monitoring and Maintenance:** Continuously monitoring AI system performance and updating models as needed to ensure ongoing accuracy and effectiveness.\n",
    "\n"
   ]
  }
 ],
 "metadata": {
  "language_info": {
   "name": "python"
  }
 },
 "nbformat": 4,
 "nbformat_minor": 2
}
