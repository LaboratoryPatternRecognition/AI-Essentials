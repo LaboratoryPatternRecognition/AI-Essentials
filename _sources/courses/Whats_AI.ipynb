{
 "cells": [
  {
   "cell_type": "markdown",
   "metadata": {},
   "source": [
    "# AI Essentials: Applications Across Fields"
   ]
  },
  {
   "cell_type": "markdown",
   "metadata": {},
   "source": [
    "## AI Definintion No.1\n",
    "**Artificial Intelligence** _(AI)_ is a branch of science that aims ***to create*** machines and systems capable of performing tasks that typically *require human intelligence*. \n",
    "\n",
    "### Weak AI :\n",
    "AI systems that are designed and trained to perform specific tasks and cannot perform tasks **outside** their ***designated functions***\n",
    "\n",
    "**Examples**\n",
    "1- *Google Home*: A home that takes care of tasks, lights your way, and knows how to help.\n",
    "Controlling smart home devices\n",
    "\n",
    "#### Some Features:\n",
    "_LED Light Bulb_: Dimmable, Voice compatible, 18$\n",
    "\n",
    "![LED Light Bulb](../AI_Images/Lamp.JPG)\n",
    "\n",
    "_Freezer Refrigerator_: Remotely Monitor And Control With Home Connect App, $7,999.00\n",
    "\n",
    "![Freezer Refrigerator](../AI_Images/Freezer_Refrigerator.jpg)"
   ]
  },
  {
   "cell_type": "markdown",
   "metadata": {},
   "source": [
    "### (General AI) Strong AI :\n",
    "_Hypothetical_ **AI** systems that can understand, learn, and handle many different tasks like humans can. General AI ***doesn't exist yet*** and is something researchers aim to create in the future.\n",
    "\n",
    "**Level 1:** Its hardware is fixed, but most of its software can be designed.\n",
    "\n",
    "**Level 2:** It can design its own hardware and software.\n",
    "\n",
    "In Amazon site [AGI systems](https://aws.amazon.com/what-is/artificial-general-intelligence/):\n",
    "Efforts to build AGI systems are ongoing and encouraged by emerging developments.\n",
    "- Deep learning , Generative AI, NLP, Computer vision, Robotics, ...\n",
    "\n",
    "#### Challenges in AGI\n",
    "- Make connections : Current AI models are limited to their specific domain and make connections between domains is difficult **!!**.\n",
    "- Emotional intelligence : _Creativity_ requires emotional thinking\n",
    "\n",
    "- Sensory perception: Interacting physically with the external environment, including perceiving shapes, colors, tastes, smells, and sounds, as well as engaging in various tasks."
   ]
  },
  {
   "cell_type": "markdown",
   "metadata": {},
   "source": [
    "## AI Definintion No.2\n",
    "**A Comprehensive Social Perspective with Focus on Human Relationships**\n",
    "AI not only impacts various aspects of individual life but also focuses on modeling and analyzing social interactions and relationships to predict human behavior.\n",
    "\n",
    "### Human Relationships\n",
    "\n",
    "![Human Relationships](../AI_Images/DiffusionNetwork.jpg)\n",
    "\n",
    "These phenomena are often studied in fields such as \n",
    "- Social network modeling\n",
    "- swarm intelligence\n",
    "- collective dynamics\n",
    "- toward brain modeling\n",
    "\n",
    "They can be modeled using AI and computational techniques to understand and **predict group behavior**.\n",
    "\n",
    " \n",
    "#### Target localization\n",
    "\n",
    "![Group Agent](../AI_Images/GroupAgent.JPG)\n",
    "\n",
    "####  Understanding Customer Behavior Through Group Modeling \n",
    "Organizations can create more effective ways to connect with customer \n",
    "\n",
    "![Cutomer control](../AI_Images/CustomerControl.JPG)\n",
    "\n",
    "#### Control election strategies\n",
    "- Generating messages for intelligent control of social groups\n",
    "- Predicting Voting Patterns: Models can forecast how different groups might vote based on past behavior and current trends. This allows campaigns to focus their efforts on key swing areas or undecided voters.\n",
    "\n",
    "#### Swarm of Drones\n",
    "A swarm of drones for attack involves complex AI algorithms and techniques inspired by natural swarm behaviors.\n",
    "\n",
    "![Swarm of Drones](../AI_Images/SwarmDrone.JPG)\n",
    "***News by the Enemy***\n",
    "Iran fired 'massive swarm' of drones, cruise missiles and ballistic missiles towards Israel "
   ]
  },
  {
   "cell_type": "markdown",
   "metadata": {},
   "source": [
    "#### Environmental surveillance and monitoring using drone swarms \n",
    "- Agriculture\n",
    "\n",
    "![Agriculture](../AI_Images/SwarmDrone_Agriculture.JPG)\n",
    "- Crowd Management\n",
    "- Forest Management\n",
    "- Pollution Detection\n",
    "- Smart Cities\n",
    "\n",
    "![Smart Cities](../AI_Images/SwarmDrone_SmartcITY.JPG)"
   ]
  },
  {
   "cell_type": "markdown",
   "metadata": {},
   "source": [
    "## Conclusion\n",
    "### Why We Are Excited About AI & AGI\n",
    "\n",
    "![Creator](../AI_Images/Quarn1.JPG)\n",
    "\n",
    "AGI is a step towards reaching a higher state of understanding. Just as God is the ultimate Creator, artificial general intelligence (AGI) represents a form of creation. \n",
    "\n",
    "![quran](../AI_Images/Creator_1.jpg)\n",
    "\n",
    "Thus, it can be seen that AGI seeks to emulate the Creator and tries to achieve a divine-like level of intelligence.\n",
    "\n",
    "![Creator](../AI_Images/Quarn2.JPG)\n",
    "\n",
    "**The Role of Intelligence in Civilization**\n",
    "- Human intelligence has created all the wonderful things in our world.\n",
    "\n",
    "![DeepAI](../AI_Images/DeepAI_HumanIntelligence.jpg)\n",
    "\n",
    "This figure was generated by AI (Text to Image).\n",
    "- By boosting our abilities with artificial intelligence, we can make life even better.\n",
    "\n",
    "**Potential Benefits**\n",
    "- Even small improvements in AI can bring big changes in science and technology.\n",
    "- These changes can help reduce accidents, diseases, injustice, wars, and poverty.\n",
    "\n",
    "![Poverty](../AI_Images/Poverty.JPG)"
   ]
  },
  {
   "cell_type": "markdown",
   "metadata": {},
   "source": [
    "\n",
    "![EmamHosseinJustice](../AI_Images/Justice_EmamHossein.JPG)\n",
    "\n",
    "![EmamHosseinJustice](../AI_Images/Justice_EmamHossein2.JPG)"
   ]
  }
 ],
 "metadata": {
  "language_info": {
   "name": "python"
  }
 },
 "nbformat": 4,
 "nbformat_minor": 2
}
